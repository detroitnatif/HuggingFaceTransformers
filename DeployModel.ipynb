{
 "cells": [
  {
   "cell_type": "code",
   "execution_count": null,
   "id": "92657688",
   "metadata": {},
   "outputs": [],
   "source": [
    "from transformers import ViTForImageClassification\n",
    "\n",
    "temp_model_dir = \"./vit-base-beans\"\n",
    "ckpt = \"google/vit-base-patch16-224\"\n",
    "\n",
    "model = ViTForImageClassification.from_pretrained(ckpt)\n",
    "model.save_pretrained(temp_model_dir, saved_model=True)"
   ]
  },
  {
   "cell_type": "code",
   "execution_count": null,
   "id": "3c57074e",
   "metadata": {},
   "outputs": [],
   "source": [
    "print(model)"
   ]
  },
  {
   "cell_type": "code",
   "execution_count": 9,
   "id": "6b6ebaf6",
   "metadata": {},
   "outputs": [
    {
     "name": "stdout",
     "output_type": "stream",
     "text": [
      "ViTImageProcessor {\n",
      "  \"do_normalize\": true,\n",
      "  \"do_rescale\": true,\n",
      "  \"do_resize\": true,\n",
      "  \"image_mean\": [\n",
      "    0.5,\n",
      "    0.5,\n",
      "    0.5\n",
      "  ],\n",
      "  \"image_processor_type\": \"ViTImageProcessor\",\n",
      "  \"image_std\": [\n",
      "    0.5,\n",
      "    0.5,\n",
      "    0.5\n",
      "  ],\n",
      "  \"resample\": 2,\n",
      "  \"rescale_factor\": 0.00392156862745098,\n",
      "  \"size\": {\n",
      "    \"height\": 224,\n",
      "    \"width\": 224\n",
      "  }\n",
      "}\n",
      "\n"
     ]
    }
   ],
   "source": [
    "from transformers import AutoImageProcessor\n",
    "\n",
    "processor = AutoImageProcessor.from_pretrained(ckpt)\n",
    "# print(processor)"
   ]
  },
  {
   "cell_type": "code",
   "execution_count": 13,
   "id": "4805af20",
   "metadata": {},
   "outputs": [],
   "source": [
    "import torch\n",
    "\n",
    "import base64\n",
    "import torch\n",
    "from PIL import Image\n",
    "from io import BytesIO\n",
    "import torchvision.transforms as transforms\n",
    "\n",
    "CONCRETE_INPUT = \"pixel_values\" # Which is what we investigated via the SavedModel CLI.\n",
    "SIZE = processor.size[\"height\"]\n",
    "\n",
    "def normalize_img(img, mean=processor.image_mean, std=processor.image_std):\n",
    "    # Assuming img is a PyTorch tensor of shape (C, H, W) and values in [0, 255]\n",
    "    img = img / 255.0  # Scale to [0, 1]\n",
    "    mean = torch.tensor(mean).view(-1, 1, 1)  # Reshape to (C, 1, 1) for broadcasting\n",
    "    std = torch.tensor(std).view(-1, 1, 1)  # Reshape to (C, 1, 1) for broadcasting\n",
    "    return (img - mean) / std\n",
    "\n",
    "\n",
    "def preprocess(string_input):\n",
    "    # Decode base64 and JPEG\n",
    "    decoded_input = base64.b64decode(string_input)\n",
    "    img = Image.open(BytesIO(decoded_input)).convert(\"RGB\")\n",
    "    \n",
    "    # Apply transformations\n",
    "    transform_pipeline = transforms.Compose([\n",
    "        transforms.Resize((SIZE, SIZE)),\n",
    "        transforms.ToTensor(),  # This also scales pixels to [0, 1]\n",
    "        normalize_img,\n",
    "        lambda x: x.permute(2, 0, 1)  # Channel-first if needed, but ToTensor already does this\n",
    "    ])\n",
    "    normalized = transform_pipeline(img)\n",
    "    return normalized\n",
    "\n",
    "def preprocess_fn(string_inputs):\n",
    "    # Assume string_inputs is a list of base64 encoded images\n",
    "    decoded_images = torch.stack([preprocess(string_input) for string_input in string_inputs])\n",
    "    return {CONCRETE_INPUT: decoded_images}\n"
   ]
  },
  {
   "cell_type": "code",
   "execution_count": null,
   "id": "3b18836b",
   "metadata": {},
   "outputs": [],
   "source": []
  }
 ],
 "metadata": {
  "kernelspec": {
   "display_name": "Python 3 (ipykernel)",
   "language": "python",
   "name": "python3"
  },
  "language_info": {
   "codemirror_mode": {
    "name": "ipython",
    "version": 3
   },
   "file_extension": ".py",
   "mimetype": "text/x-python",
   "name": "python",
   "nbconvert_exporter": "python",
   "pygments_lexer": "ipython3",
   "version": "3.9.13"
  }
 },
 "nbformat": 4,
 "nbformat_minor": 5
}
